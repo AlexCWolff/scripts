{
 "cells": [
  {
   "cell_type": "code",
   "execution_count": 7,
   "metadata": {
    "collapsed": false
   },
   "outputs": [],
   "source": [
    "import folium"
   ]
  },
  {
   "cell_type": "code",
   "execution_count": 12,
   "metadata": {
    "collapsed": false
   },
   "outputs": [],
   "source": [
    "map = folium.Map(location=[45.372, -121.697], zoom_start=12, tiles='Stamen Terrain')\n",
    "\n",
    "folium.Marker(location=[45.3288, -121.6625], popup='Mt. Hood Meadows', icon = folium.Icon(color ='red')).add_to(map)\n",
    "folium.Marker(location=[45.3311, -121.7311], popup='Timberlake Lodge', icon = folium.Icon(color ='red')).add_to(map)\n",
    "\n",
    "map.save('test.html')"
   ]
  },
  {
   "cell_type": "code",
   "execution_count": 25,
   "metadata": {
    "collapsed": false
   },
   "outputs": [],
   "source": [
    "import pandas\n",
    "\n",
    "df = pandas.read_csv(\"Volcanoes-USA.txt\")\n",
    "map = folium.Map(location=[df['LAT'].mean(), df['LON'].mean()], zoom_start=6, tiles='Mapbox bright')\n",
    "\n",
    "def color(elev):\n",
    "    minimum = int(min(df['ELEV']))\n",
    "    step = int((max(df['ELEV']) - min(df['ELEV'])) / 3)\n",
    "    if elev in range(minimum, minimum + step):\n",
    "        col='green'\n",
    "    elif elev in range(minimum + step, minimum + step * 2):\n",
    "        col='orange'\n",
    "    else:\n",
    "        col='red'\n",
    "    return col\n",
    "\n",
    "fg = folium.FeatureGroup(name=\"Volcano Locations\")\n",
    "\n",
    "for lat, lon, name, elev in zip(df['LAT'], df['LON'], df['NAME'], df['ELEV']):\n",
    "    fg.add_child(folium.Marker(location=[lat ,lon], popup=(folium.Popup(name)), icon=folium.Icon(color=color(elev), icon_color='green')))\n",
    "\n",
    "map.add_child(fg)\n",
    "\n",
    "map.add_child(folium.GeoJson(data=open('world-geojson-from-ogr.json', encoding=\"utf-8-sig\"),\n",
    "    name = \"Unemployment\",\n",
    "    style_function = lambda x: {'fillColor':'green' if x['properties']['POP2005'] <= 10000000 else 'orange' if 10000000 < x['properties']['POP2005'] < 20000000 else 'red'}))\n",
    "\n",
    "map.add_child(folium.LayerControl())\n",
    "\n",
    "map.save(outfile='test2.html')\n"
   ]
  },
  {
   "cell_type": "code",
   "execution_count": null,
   "metadata": {
    "collapsed": true
   },
   "outputs": [],
   "source": []
  }
 ],
 "metadata": {
  "kernelspec": {
   "display_name": "Python 3",
   "language": "python",
   "name": "python3"
  },
  "language_info": {
   "codemirror_mode": {
    "name": "ipython",
    "version": 3
   },
   "file_extension": ".py",
   "mimetype": "text/x-python",
   "name": "python",
   "nbconvert_exporter": "python",
   "pygments_lexer": "ipython3",
   "version": "3.6.1"
  }
 },
 "nbformat": 4,
 "nbformat_minor": 2
}
